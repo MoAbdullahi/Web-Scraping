{
 "cells": [
  {
   "cell_type": "code",
   "execution_count": 165,
   "metadata": {},
   "outputs": [],
   "source": [
    "from selenium import webdriver\n",
    "\n",
    "driver = webdriver.Chrome()\n",
    "driver.get('https://www.brandstof-zoeker.nl/')\n"
   ]
  },
  {
   "cell_type": "code",
   "execution_count": 164,
   "metadata": {
    "scrolled": false
   },
   "outputs": [
    {
     "name": "stdout",
     "output_type": "stream",
     "text": [
      "De Scheiding 59  Opende\n",
      "Busch 12  Krommenie\n",
      "Abdijweg 62  Weerselo\n",
      "Rhederweg 204 (N969)  BELLINGWOLDE\n",
      "Nw. Weteringseweg 1 (N234)  GROENEKAN\n",
      "Fortuinweg 3  Zaandijk\n",
      "Matlingeweg 11  ROTTERDAM\n",
      "Eibergseweg 81  GROENLO\n",
      "Laan der Verenigde Naties 1A  Middelburg\n",
      "Gooilandseweg t/o 2 (N236)  WEESP\n",
      "Neherkade 2980  DEN HAAG\n",
      "Weerdhuisweg 11  Lemelerveld\n",
      "De Flinesstraat 9  Amsterdam-Duivendrecht\n",
      "Brem 4  Best\n",
      "Nieuwgraaf 28  Duiven\n",
      "Thermiekstraat 15  Nuth\n",
      "Beneluxlaan 1001  UTRECHT\n",
      "Kweekgrasstraat 2  ALMERE\n",
      "Kapittelweg 5  BREDA\n",
      "Ringdijk 650  ZWIJNDRECHT\n",
      "Groene Kruisweg 44  ROTTERDAM\n",
      "Groene Kruisweg 45  ROTTERDAM\n",
      "Heerbaan 190  BREDA\n",
      "Korte Langesteijn 2  HENDRIK-IDO-AMBACHT\n",
      "Zwolseweg 50  's-Heerenbroek\n",
      "Warnsveldseweg 170  ZUTPHEN\n",
      "Het Haagje 145  Hoogeveen\n",
      "Doctor C. Lelyweg 31  ARNHEM\n",
      "Huizingalaan 2  EINDHOVEN\n",
      "Terborgseweg 215 (N317)  DOETINCHEM\n",
      "Rijksweg 2a (N280)  BAEXEM\n",
      "Aldlansdyk 5  LEEUWARDEN\n",
      "Landbouwweg 18  Zeewolde\n",
      "Baan 43  Biddinghuizen\n",
      "De Noord 99a  De\n",
      "Millseweg 25 (N602)  WANROIJ\n",
      "Raadhuislaan 48  MIJNSHEERENLAND\n",
      "De Fok 4  Schagen\n",
      "Energieweg 100  NIJMEGEN\n",
      "De Helling 1  ALBLASSERDAM\n",
      "Provincialeweg Noord 82a  DOENRADE\n",
      "Deestersteeg 1  DEEST\n",
      "Koningsweg 17  Soest\n",
      "Goudseweg 34 (N459)  BODEGRAVEN\n",
      "Voorzand 1  RIDDERKERK\n",
      "Zijdwende 2  MIDWOLDA\n",
      "De Striptekenaar 83  ALMERE\n",
      "Zegerbaan 2  ALPHEN A/D RIJN\n",
      "Dorpsstraat 75A  De Wijk\n",
      "De Zuid 41  DRONTEN\n",
      "Rijksstraatweg 28  DORDRECHT\n",
      "Maaseikerweg 19 (N296)  ROOSTEREN\n",
      "Ir Molsweg 1  HUISSEN\n",
      "Stationsweg 38  WEZEP\n",
      "Nieuweweg 101  HATTEM\n",
      "Provincialeweg 1  SCHELLUINEN\n",
      "Weg der Verenigde Naties 10  IJSSELSTEIN\n",
      "Weg der Verenigde Naties 9  IJSSELSTEIN\n",
      "Noorddammerlaan 11-13  AMSTELVEEN\n",
      "Rieteweg 6  ZWOLLE\n",
      "Wassenaarseweg 65  KATWIJK\n",
      "1e Energieweg 17  RODEN\n",
      "Einsteinstraat 5  LANDGRAAF\n",
      "De Brei 12  INGEN\n",
      "Rijksweg A28 1  WEZEP\n",
      "Graaf Engelbertlaan 200  BREDA\n",
      "Oldeneelallee 99  ZWOLLE\n",
      "Rijksweg A1  STROE\n",
      "Schijndelseweg 61  BOXTEL\n",
      "Schadewijkstraat 70  EERSEL\n",
      "Rijksweg A28 WZ 1  WEZEP\n",
      "Burchtstraat 9  KUINRE\n",
      "Steenwijkerweg 1  BLOKZIJL\n",
      "Kloosterstraat 120a  HEYTHUYSEN\n",
      "Pastoor Stassenstraat 49  VENLO\n",
      "Emmaberg 40  VALKENBURG a/d GEUL\n",
      "In de Cramer 15  HEERLEN\n",
      "Wiebachstraat 5  KERKRADE\n",
      "Ambachtsstraat 17  NIJKERK GLD\n",
      "M.A Reinaldaweg 10 (N210)  LOPIK\n",
      "Gooilandseweg 2 (N236)  WEESP\n",
      "M.A. Reinaldaweg t/o 10 (N210)  LOPIK\n",
      "Schroefstraat 18  LELYSTAD\n",
      "Marsdiep 2  URK\n",
      "Randweg 16  EMMELOORD\n",
      "Het Hooiveld 1  EMMELOORD\n",
      "Flevoweg 2  VOLLENHOVE\n",
      "Ruxveenseweg 2  STEENWIJK\n",
      "Boekelseweg 3  GEMERT\n",
      "Moonslaan 2  MAARHEEZE\n",
      "Provincialeweg 120 (N831)  VELDDRIEL\n",
      "Beemdweg 4C  HOOGBLOKLAND\n",
      "Lemsterpad 38a  LEMMER\n",
      "Antwerpseweg 1  HEERLEN\n",
      "Borculoseweg 57  Groenlo\n",
      "Den Sliem 98  Groenlo\n",
      "van Heemstraweg 1 (N322)  ROSSUM\n",
      "Ringbaan Zuid 31  WEERT\n",
      "Rijksweg A28  NUNSPEET\n",
      "Ceintuurbaan 54  ZWOLLE\n"
     ]
    }
   ],
   "source": [
    "out_filename = \"data.csv\"\n",
    "headers = \"address,city \\n\"\n",
    "f = open(out_filename, \"w\")\n",
    "f.write(headers)\n",
    "data = driver.find_elements_by_xpath('//li[starts-with(@id, \"station\")]/ul/li[1]') \n",
    "num_page_items = len(data)\n",
    "for i in range(num_page_items):  \n",
    "    address = data[i].text.split(\",\")[0]\n",
    "    city      = data[i].text.split(\",\")[1]\n",
    "    print(address + \" \" + city) \n",
    "    f.write(address + \", \" + city + \"\\n\")\n",
    "f.close()\n",
    "driver.quit()"
   ]
  },
  {
   "cell_type": "code",
   "execution_count": null,
   "metadata": {},
   "outputs": [],
   "source": []
  },
  {
   "cell_type": "code",
   "execution_count": 48,
   "metadata": {},
   "outputs": [
    {
     "ename": "TypeError",
     "evalue": "'WebElement' object is not iterable",
     "output_type": "error",
     "traceback": [
      "\u001b[1;31m---------------------------------------------------------------------------\u001b[0m",
      "\u001b[1;31mTypeError\u001b[0m                                 Traceback (most recent call last)",
      "\u001b[1;32m<ipython-input-48-6a4379990283>\u001b[0m in \u001b[0;36m<module>\u001b[1;34m\u001b[0m\n\u001b[1;32m----> 1\u001b[1;33m \u001b[1;32mfor\u001b[0m \u001b[0mworkers\u001b[0m \u001b[1;32min\u001b[0m \u001b[0mhashim\u001b[0m\u001b[1;33m:\u001b[0m\u001b[1;33m\u001b[0m\u001b[1;33m\u001b[0m\u001b[0m\n\u001b[0m\u001b[0;32m      2\u001b[0m     \u001b[0mstations\u001b[0m \u001b[1;33m=\u001b[0m \u001b[0mpage_soup\u001b[0m\u001b[1;33m.\u001b[0m\u001b[0mimg\u001b[0m\u001b[1;33m\u001b[0m\u001b[1;33m\u001b[0m\u001b[0m\n\u001b[0;32m      3\u001b[0m     \u001b[1;31m#.findAll(\"li\", {\"class\": \"station\"})\u001b[0m\u001b[1;33m\u001b[0m\u001b[1;33m\u001b[0m\u001b[1;33m\u001b[0m\u001b[0m\n\u001b[0;32m      4\u001b[0m     \u001b[1;31m#names = positions.h2.text\u001b[0m\u001b[1;33m\u001b[0m\u001b[1;33m\u001b[0m\u001b[1;33m\u001b[0m\u001b[0m\n\u001b[0;32m      5\u001b[0m     \u001b[0mprint\u001b[0m\u001b[1;33m(\u001b[0m\u001b[0mstations\u001b[0m\u001b[1;33m.\u001b[0m\u001b[0mtext\u001b[0m\u001b[1;33m)\u001b[0m\u001b[1;33m\u001b[0m\u001b[1;33m\u001b[0m\u001b[0m\n",
      "\u001b[1;31mTypeError\u001b[0m: 'WebElement' object is not iterable"
     ]
    }
   ],
   "source": []
  }
 ],
 "metadata": {
  "kernelspec": {
   "display_name": "Python 3",
   "language": "python",
   "name": "python3"
  },
  "language_info": {
   "codemirror_mode": {
    "name": "ipython",
    "version": 3
   },
   "file_extension": ".py",
   "mimetype": "text/x-python",
   "name": "python",
   "nbconvert_exporter": "python",
   "pygments_lexer": "ipython3",
   "version": "3.7.6"
  }
 },
 "nbformat": 4,
 "nbformat_minor": 4
}
